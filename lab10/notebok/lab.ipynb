{
 "cells": [
  {
   "cell_type": "code",
   "execution_count": 1,
   "outputs": [],
   "source": [
    "from __future__ import annotations\n",
    "import numpy as np\n",
    "import six\n",
    "from matplotlib import pyplot\n",
    "from pandas import DataFrame"
   ],
   "metadata": {
    "collapsed": false
   }
  },
  {
   "cell_type": "code",
   "execution_count": 2,
   "metadata": {
    "collapsed": true
   },
   "outputs": [],
   "source": [
    "def table(\n",
    "    data: DataFrame,\n",
    "    colwidth: int | float = 3.0,\n",
    "    rowheight: int | float = 0.625,\n",
    "    fontsize: int | float = 14,\n",
    "    headercolor: str = '#40466e',\n",
    "    rowcolors: list[str] = None,\n",
    "    edgecolor: str = 'w',\n",
    "    bbox: list[int] = None,\n",
    "    headercolumns: int = 0,\n",
    "    ax = None,\n",
    "    **kwargs\n",
    "):\n",
    "    if bbox is None:\n",
    "        bbox = [0, 0, 1, 1]\n",
    "    if rowcolors is None:\n",
    "        rowcolors = ['#f1f1f2', 'w']\n",
    "    if ax is None:\n",
    "        size = (np.array(data.shape[::-1]) + np.array([0, 1])) * np.array([colwidth, rowheight])\n",
    "        fig, ax = pyplot.subplots(figsize = size)\n",
    "        ax.axis('off')\n",
    "\n",
    "    mtable = ax.table(cellText = data.values, bbox = bbox, colLabels = data.columns, **kwargs)\n",
    "\n",
    "    mtable.auto_set_font_size(False)\n",
    "    mtable.set_fontsize(fontsize)\n",
    "\n",
    "    for k, cell in six.iteritems(mtable.get_celld()):\n",
    "        cell.set_edgecolor(edgecolor)\n",
    "        if k[0] == 0 or k[1] < headercolumns:\n",
    "            cell.set_text_props(weight = 'bold', color = 'w')\n",
    "            cell.set_facecolor(headercolor)\n",
    "        else:\n",
    "            cell.set_facecolor(rowcolors[k[0] % len(rowcolors)])\n",
    "    return ax"
   ]
  }
 ],
 "metadata": {
  "kernelspec": {
   "display_name": "Python 3",
   "language": "python",
   "name": "python3"
  },
  "language_info": {
   "codemirror_mode": {
    "name": "ipython",
    "version": 2
   },
   "file_extension": ".py",
   "mimetype": "text/x-python",
   "name": "python",
   "nbconvert_exporter": "python",
   "pygments_lexer": "ipython2",
   "version": "2.7.6"
  }
 },
 "nbformat": 4,
 "nbformat_minor": 0
}
