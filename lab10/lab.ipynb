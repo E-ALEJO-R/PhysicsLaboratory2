{
 "cells": [
  {
   "cell_type": "code",
   "execution_count": 184,
   "metadata": {},
   "outputs": [],
   "source": [
    "from __future__ import annotations\n",
    "import numpy as np\n",
    "import six\n",
    "import math\n",
    "from matplotlib import pyplot\n",
    "from pandas import DataFrame, read_csv as csv\n",
    "import gc"
   ]
  },
  {
   "cell_type": "code",
   "execution_count": 185,
   "metadata": {
    "collapsed": true
   },
   "outputs": [],
   "source": [
    "def show(\n",
    "    data: DataFrame,\n",
    "    decimals: int = 3,\n",
    "    colwidth: int | float = 3.0,\n",
    "    rowheight: int | float = 0.625,\n",
    "    fontsize: int | float = 14,\n",
    "    headercolor: str = '#40466e',\n",
    "    rowcolors: list[str] = None,\n",
    "    edgecolor: str = 'w',\n",
    "    bbox: list[int] = None,\n",
    "    headercolumns: int = 0,\n",
    "    ax = None,\n",
    "    **kwargs\n",
    "):\n",
    "    gc.collect()\n",
    "    if bbox is None:\n",
    "        bbox = [0, 0, 1, 1]\n",
    "    if rowcolors is None:\n",
    "        rowcolors = ['#f1f1f2', 'w']\n",
    "    if ax is None:\n",
    "        size = (np.array(data.shape[::-1]) + np.array([0, 1])) * np.array([colwidth, rowheight])\n",
    "        fig, ax = pyplot.subplots(figsize = size)\n",
    "        ax.axis('off')\n",
    "\n",
    "    val = np.round(data.values, decimals = decimals)\n",
    "    mtable = ax.table(cellText = val, bbox = bbox, colLabels = data.columns, **kwargs)\n",
    "\n",
    "    mtable.auto_set_font_size(False)\n",
    "    mtable.set_fontsize(fontsize)\n",
    "\n",
    "    for k, cell in six.iteritems(mtable.get_celld()):\n",
    "        cell.set_edgecolor(edgecolor)\n",
    "        if k[0] == 0 or k[1] < headercolumns:\n",
    "            cell.set_text_props(weight = 'bold', color = 'w')\n",
    "            cell.set_facecolor(headercolor)\n",
    "        else:\n",
    "            cell.set_facecolor(rowcolors[k[0] % len(rowcolors)])\n",
    "    pyplot.show()\n",
    "    #return ax"
   ]
  },
  {
   "cell_type": "code",
   "execution_count": 186,
   "outputs": [],
   "source": [
    "from enum import Enum, unique\n",
    "\n",
    "\n",
    "@unique\n",
    "class Operation(Enum):\n",
    "    ADD = 0\n",
    "    SUB = 1\n",
    "    MUL = 2\n",
    "    TRUEDIV = 3\n",
    "    FLOORDIV = 4\n",
    "    POW = 5\n",
    "    MOD = 6\n",
    "\n",
    "\n",
    "class LException(Exception):\n",
    "\n",
    "    def __init__(self, *args):\n",
    "        super(LException, self).__init__(*args)\n",
    "\n",
    "\n",
    "class List(list):\n",
    "\n",
    "    def __init__(self):\n",
    "        super().__init__()\n",
    "\n",
    "    def __add__(self, other: int | float | List):\n",
    "        return self.__aux(other, Operation.ADD)\n",
    "\n",
    "    def __sub__(self, other: int | float | List):\n",
    "        return self.__aux(other, Operation.SUB)\n",
    "\n",
    "    def __mul__(self, other: int | float | List):\n",
    "        return self.__aux(other, Operation.MUL)\n",
    "\n",
    "    def __truediv__(self, other: int | float | List):\n",
    "        return self.__aux(other, Operation.TRUEDIV)\n",
    "\n",
    "    def __floordiv__(self, other: int | float | List):\n",
    "        return self.__aux(other, Operation.FLOORDIV)\n",
    "\n",
    "    def __pow__(self, power: int | List, modulo = None):\n",
    "        return self.__aux(power, Operation.POW)\n",
    "\n",
    "    def __mod__(self, other: int | float | List):\n",
    "        return self.__aux(other, Operation.MOD)\n",
    "\n",
    "    def __op(self, other: int | float | List, operation: Operation, array: bool = False) -> List:\n",
    "        values = List()\n",
    "        for i in range(len(self)):\n",
    "            if operation == Operation.ADD:\n",
    "                values.append(self[i] + other[i] if array else self[i] + other)\n",
    "            elif operation == Operation.SUB:\n",
    "                values.append(self[i] - other[i] if array else self[i] - other)\n",
    "            elif operation == Operation.MUL:\n",
    "                values.append(self[i] * other[i] if array else self[i] * other)\n",
    "            elif operation == Operation.TRUEDIV:\n",
    "                values.append(self[i] / other[i] if array else self[i] / other)\n",
    "            elif operation == Operation.FLOORDIV:\n",
    "                values.append(self[i] // other[i] if array else self[i] // other)\n",
    "            elif operation == Operation.POW:\n",
    "                values.append(self[i] ** other[i] if array else self[i] ** other)\n",
    "            elif operation == Operation.MOD:\n",
    "                values.append(self[i] % other[i] if array else self[i] % other)\n",
    "            else:\n",
    "                raise LException(f\"invalid operation\")\n",
    "        return values\n",
    "\n",
    "    def __aux(self, other: int | float | List, op: Operation):\n",
    "        if isinstance(other, (int, float)):\n",
    "            return self.__op(other, op)\n",
    "        elif isinstance(other, List):\n",
    "            if len(self) == len(other):\n",
    "                return self.__op(other, op, array = True)\n",
    "            else:\n",
    "                raise LException(f\"lists must be of equal size\")\n",
    "        else:\n",
    "            raise LException(f\"only types are supported: {int}, {float} and {List}\")\n"
   ],
   "metadata": {
    "collapsed": false
   }
  },
  {
   "cell_type": "code",
   "execution_count": 187,
   "outputs": [],
   "source": [
    "def invert(array: List) -> List:\n",
    "    val = List()\n",
    "    for i in range(len(array[0])):\n",
    "        aux = List()\n",
    "        for j in range(len(array)):\n",
    "            aux.append(array[j][i])\n",
    "        val.append(aux)\n",
    "    return val"
   ],
   "metadata": {
    "collapsed": false
   }
  },
  {
   "cell_type": "code",
   "execution_count": 188,
   "outputs": [],
   "source": [
    "from csv import writer, reader\n",
    "\n",
    "\n",
    "class LRException(Exception):\n",
    "    def __init__(self, *args):\n",
    "        super(LRException, self).__init__(*args)\n",
    "\n",
    "\n",
    "class LinearRegression:\n",
    "\n",
    "    def __init__(self, data: dict | str):\n",
    "        self.__array: dict\n",
    "        self.__path: str\n",
    "\n",
    "        if isinstance(data, dict):\n",
    "            self.__array = data\n",
    "        elif isinstance(data, str):\n",
    "            self.__path = data\n",
    "            self.__array = {key: value for key, value in self.__readcsv()}\n",
    "        else:\n",
    "            raise LRException(f'Required data types: {dict} or path of *.csv file {str}')\n",
    "\n",
    "        self.__n = len(self)\n",
    "\n",
    "        self.__promx = np.mean(self[\"tan α\"])\n",
    "        self.__promy = np.mean(self[\"I[A]\"])\n",
    "\n",
    "        self.__sumx = np.sum(self[\"tan α\"])\n",
    "        self.__sumy = np.sum(self[\"I[A]\"])\n",
    "        self.__sumx2 = np.sum(self[\"tan α\"] ** 2)\n",
    "        self.__sumy2 = np.sum(self[\"I[A]\"] ** 2)\n",
    "        self.__sumxy = np.sum(self[\"tan α\"] * self[\"I[A]\"])\n",
    "\n",
    "        self.__sumyaxb2 = np.sum((self[\"I[A]\"] - (self[\"tan α\"] * self.a()) - self.b()) ** 2)\n",
    "\n",
    "    def __len__(self):\n",
    "        return self.dimension()[1]\n",
    "\n",
    "    def __getitem__(self, index):\n",
    "        try:\n",
    "            return self.__array[index]\n",
    "        except KeyError as e:\n",
    "            raise LRException(f\"column {e} does not exist\")\n",
    "\n",
    "    def __setitem__(self, index, value):\n",
    "        self.__array[index] = value\n",
    "\n",
    "    def __readcsv(self):\n",
    "        with open(self.__path, newline = '') as file:\n",
    "            values = List()\n",
    "            for f in reader(file):\n",
    "                values.append(f)\n",
    "            values = invert(values)\n",
    "            for val in values:\n",
    "                J = List()\n",
    "                for gg in val[1:]:\n",
    "                    J.append(float(gg))\n",
    "                yield str(val[0]), J\n",
    "\n",
    "    def __writecsv(self):\n",
    "        with open(self.__path, mode = 'w') as File:\n",
    "            write = writer(File)\n",
    "            write.writerow(self.__array)\n",
    "\n",
    "    def a(self) -> float:\n",
    "        return (self.__n * self.__sumxy - self.__sumx * self.__sumy) / (self.__n * self.__sumx2 - self.__sumx ** 2)\n",
    "\n",
    "    def b(self) -> float:\n",
    "        return (self.__sumy * self.__sumx2 - self.__sumx * self.__sumxy) / (self.__n * self.__sumx2 - self.__sumx ** 2)\n",
    "\n",
    "    def r(self) -> float:\n",
    "        return self.__sumxy / math.sqrt(self.__sumx2 * self.__sumy2)\n",
    "\n",
    "    def sigmay(self):\n",
    "        Y = self[\"I[A]\"]\n",
    "        BX = self[\"tan α\"] * self.a()\n",
    "        F = ((Y - BX) - self.b()) ** 2\n",
    "        return math.sqrt(\n",
    "            self.__sumyaxb2 / (self.__n - 2)\n",
    "        )\n",
    "\n",
    "    def erra(self):\n",
    "        return self.sigmay() * math.sqrt(self.__n / (self.__n * self.__sumx2 - self.__sumx ** 2))\n",
    "\n",
    "    def errb(self):\n",
    "        return self.sigmay() * math.sqrt(self.__sumx2 / (self.__n * self.__sumx2 - self.__sumx ** 2))\n",
    "\n",
    "    def table(\n",
    "        self,\n",
    "        decimals: int = 3,\n",
    "        colwidth: int | float = 3.0,\n",
    "        rowheight: int | float = 0.625,\n",
    "        fontsize: int | float = 14,\n",
    "        headercolor: str = '#40466e',\n",
    "        rowcolors: list[str] = None,\n",
    "        edgecolor: str = 'w',\n",
    "        bbox: list[int] = None,\n",
    "        headercolumns: int = 0,\n",
    "        ax = None,\n",
    "        **kwargs\n",
    "    ) -> None:\n",
    "        if bbox is None:\n",
    "            bbox = [0, 0, 1, 1]\n",
    "        if rowcolors is None:\n",
    "            rowcolors = ['#f1f1f2', 'w']\n",
    "        if ax is None:\n",
    "            size = (np.array(self.dimension()) + np.array([0, 1])) * np.array([colwidth, rowheight])\n",
    "            fig, ax = pyplot.subplots(figsize = size)\n",
    "            ax.axis('off')\n",
    "        values = [i for i in self.__array.values()]\n",
    "        values = np.round(values, decimals = decimals)\n",
    "        values = invert(values)\n",
    "        mtable = ax.table(cellText = values, bbox = bbox, colLabels = self.headers(), **kwargs)\n",
    "        mtable.auto_set_font_size(False)\n",
    "        mtable.set_fontsize(fontsize)\n",
    "\n",
    "        for k, cell in six.iteritems(mtable.get_celld()):\n",
    "            cell.set_edgecolor(edgecolor)\n",
    "            if k[0] == 0 or k[1] < headercolumns:\n",
    "                cell.set_text_props(weight = 'bold', color = 'w')\n",
    "                cell.set_facecolor(headercolor)\n",
    "            else:\n",
    "                cell.set_facecolor(rowcolors[k[0] % len(rowcolors)])\n",
    "        pyplot.show()\n",
    "\n",
    "    def graph(self) -> None:\n",
    "        pass\n",
    "\n",
    "    def dimension(self) -> tuple:\n",
    "        row = 0\n",
    "        for v in self.__array.values():\n",
    "            row = len(v)\n",
    "        return len(self.__array), row\n",
    "\n",
    "    def headers(self) -> list:\n",
    "        return [k for k in self.__array.keys()]\n",
    "\n",
    "    def regression(self, x, y):\n",
    "        pass\n",
    "\n",
    "    def equation(self) -> str:\n",
    "        return f\"y = {round(self.a(), 2)}x + {round(self.b(), 2)}\"\n",
    "\n",
    "    def getarray(self):\n",
    "        return self.__array"
   ],
   "metadata": {
    "collapsed": false
   }
  },
  {
   "cell_type": "code",
   "execution_count": 189,
   "outputs": [
    {
     "data": {
      "text/plain": "<Figure size 900x375 with 1 Axes>",
      "image/png": "[encoded data removed]"
     },
     "metadata": {},
     "output_type": "display_data"
    }
   ],
   "source": [
    "ls = LinearRegression(\"../lab10/models/datas.csv\")\n",
    "ls.table()"
   ],
   "metadata": {
    "collapsed": false
   }
  },
  {
   "cell_type": "code",
   "execution_count": 190,
   "outputs": [
    {
     "data": {
      "text/plain": "0.1176655737704925"
     },
     "execution_count": 190,
     "metadata": {},
     "output_type": "execute_result"
    }
   ],
   "source": [
    "ls.b()"
   ],
   "metadata": {
    "collapsed": false
   }
  },
  {
   "cell_type": "code",
   "execution_count": 191,
   "outputs": [
    {
     "data": {
      "text/plain": "0.7442622950819633"
     },
     "execution_count": 191,
     "metadata": {},
     "output_type": "execute_result"
    }
   ],
   "source": [
    "ls.a()"
   ],
   "metadata": {
    "collapsed": false
   }
  },
  {
   "cell_type": "code",
   "execution_count": 192,
   "outputs": [
    {
     "data": {
      "text/plain": "0.9913297022385562"
     },
     "execution_count": 192,
     "metadata": {},
     "output_type": "execute_result"
    }
   ],
   "source": [
    "ls.r()"
   ],
   "metadata": {
    "collapsed": false
   }
  },
  {
   "cell_type": "code",
   "execution_count": 193,
   "outputs": [
    {
     "data": {
      "text/plain": "'y = 0.74x + 0.12'"
     },
     "execution_count": 193,
     "metadata": {},
     "output_type": "execute_result"
    }
   ],
   "source": [
    "ls.equation()"
   ],
   "metadata": {
    "collapsed": false
   }
  },
  {
   "cell_type": "code",
   "execution_count": 194,
   "outputs": [
    {
     "data": {
      "text/plain": "0.01449740885082497"
     },
     "execution_count": 194,
     "metadata": {},
     "output_type": "execute_result"
    }
   ],
   "source": [
    "ls.sigmay()"
   ],
   "metadata": {
    "collapsed": false
   }
  },
  {
   "cell_type": "code",
   "execution_count": 195,
   "outputs": [
    {
     "data": {
      "text/plain": "0.2625067451985696"
     },
     "execution_count": 195,
     "metadata": {},
     "output_type": "execute_result"
    }
   ],
   "source": [
    "ls.erra()"
   ],
   "metadata": {
    "collapsed": false
   }
  },
  {
   "cell_type": "code",
   "execution_count": 196,
   "outputs": [
    {
     "data": {
      "text/plain": "0.031133344248098174"
     },
     "execution_count": 196,
     "metadata": {},
     "output_type": "execute_result"
    }
   ],
   "source": [
    "ls.errb()"
   ],
   "metadata": {
    "collapsed": false
   }
  },
  {
   "cell_type": "markdown",
   "metadata": {},
   "source": [
    "# EXPERIMENTO 10: \"LEY DE OERSTED\""
   ]
  },
  {
   "cell_type": "markdown",
   "metadata": {},
   "source": [
    "\n",
    "El objetivo de esta experiencia es recrear el famoso experimento de Oersted sobre la desviación que sufre una aguja magnética situada en las proximidades de un conductor eléctrico"
   ]
  },
  {
   "cell_type": "markdown",
   "metadata": {},
   "source": [
    "Através de esta ley se puede determinar el valor de **campo magnético** de un conductor"
   ]
  },
  {
   "cell_type": "markdown",
   "metadata": {},
   "source": [
    "$$ \\vec{B}_C = \\frac{\\mu_0 I}{2 \\pi d} $$"
   ]
  },
  {
   "cell_type": "markdown",
   "metadata": {},
   "source": [
    "referencias:\n",
    "* $I \\longrightarrow $ medir en laboratorio\n",
    "* $d \\longrightarrow $ distancia de separación entre el conductor y la aguja"
   ]
  },
  {
   "cell_type": "code",
   "execution_count": 197,
   "outputs": [
    {
     "name": "stdout",
     "output_type": "stream",
     "text": [
      "Index(['α[°]', 'tan α', 'I[A]'], dtype='object')\n"
     ]
    }
   ],
   "source": [
    "df = DataFrame(csv(\"../lab10/models/datas.csv\"))\n",
    "\n",
    "df['tan α'] = df[\"α[°]\"].apply(lambda a: math.tan(math.radians(a)))\n",
    "# show(df, decimals = 2)\n",
    "# df.shape[::-1]\n",
    "print(df.columns)"
   ],
   "metadata": {
    "collapsed": false
   }
  },
  {
   "cell_type": "markdown",
   "source": [
    "**APLICANDO EL MÉTODO DE LOS MÍNIMOS CUADRADOS**\n",
    "* Ecuación de la recta:\n",
    "$$y = Bx + A$$\n",
    "* Para determinar el término independiente $A$\n",
    "$$\n",
    "A =\n",
    "\\frac{\\sum y_i \\sum {x_i}^{2} - \\sum x_i \\sum x_i y_i}\n",
    "{n \\sum{x_i}^{2} - \\left( \\sum x_i \\right)^{2}}\n",
    "$$\n",
    "* Para determinar la pendiente $B$\n",
    "$$\n",
    "B =\n",
    "\\frac{n\\sum x_i y_i - \\sum x_i \\sum y_i}\n",
    "{n \\sum{x_i}^{2} - \\left( \\sum x_i \\right)^{2}}\n",
    "$$\n",
    "* Para determinar la incertidumbre de los datos\n",
    "$$\n",
    "\\sigma_y =\n",
    "\\sqrt{\n",
    "\\frac{\\sum{\\left(y_i - Bx_i - A\\right)}^{2}}\n",
    "{n-2}\n",
    "}\n",
    "$$\n",
    "* Para determinar la incertidumbre de $A$\n",
    "$$\n",
    "E_A = \\sigma_y \\sqrt{\n",
    "\\frac{\\sum{x_i}^{2}}{n \\sum{x_i}^{2} - \\left( \\sum x_i \\right)^{2}}\n",
    "}\n",
    "$$\n",
    "* Para determinar la incertidumbre de $B$\n",
    "$$\n",
    "E_B = \\sigma_y \\sqrt{\n",
    "\\frac{n}{n \\sum{x_i}^{2} - \\left( \\sum x_i \\right)^{2}}\n",
    "}\n",
    "$$\n",
    "* Para determinar el coeficiente de correlación\n",
    "$$\n",
    "r =\n",
    "\\frac{\\sum x_i y_i}\n",
    "{\\sqrt{\\sum{x_i}^{2} \\sum{y_i}^{2}}}\n",
    "$$"
   ],
   "metadata": {
    "collapsed": false
   }
  },
  {
   "cell_type": "code",
   "execution_count": 198,
   "outputs": [
    {
     "data": {
      "text/plain": "<Figure size 1800x375 with 1 Axes>",
      "image/png": "[encoded data removed]"
     },
     "metadata": {},
     "output_type": "display_data"
    }
   ],
   "source": [
    "df['(tan α) * (I[A])'] = df[\"tan α\"].apply(lambda a: a) * df[\"I[A]\"].apply(lambda a: a)\n",
    "df[\"(tan α)^2\"] = df[\"tan α\"].apply(lambda a: a) ** 2\n",
    "df[\"(I[A])^2\"] = df[\"I[A]\"].apply(lambda a: a) ** 2\n",
    "show(df, decimals = 6)"
   ],
   "metadata": {
    "collapsed": false
   }
  },
  {
   "cell_type": "code",
   "execution_count": 199,
   "outputs": [],
   "source": [
    "n = len(df)\n",
    "sum_xy = np.sum(df[\"(tan α) * (I[A])\"])\n",
    "sum_x = np.sum(df[\"tan α\"])\n",
    "sum_y = np.sum(df[\"I[A]\"])\n",
    "sum_x2 = np.sum(df[\"(tan α)^2\"])\n",
    "sum_y2 = np.sum(df[\"(I[A])^2\"])"
   ],
   "metadata": {
    "collapsed": false
   }
  },
  {
   "cell_type": "markdown",
   "source": [
    "Cantidad de datos"
   ],
   "metadata": {
    "collapsed": false
   }
  },
  {
   "cell_type": "code",
   "execution_count": 200,
   "outputs": [
    {
     "data": {
      "text/plain": "5"
     },
     "execution_count": 200,
     "metadata": {},
     "output_type": "execute_result"
    }
   ],
   "source": [
    "n"
   ],
   "metadata": {
    "collapsed": false
   }
  },
  {
   "cell_type": "markdown",
   "source": [
    "Pendiente de la recta"
   ],
   "metadata": {
    "collapsed": false
   }
  },
  {
   "cell_type": "code",
   "execution_count": 201,
   "outputs": [
    {
     "data": {
      "text/plain": "0.75"
     },
     "execution_count": 201,
     "metadata": {},
     "output_type": "execute_result"
    }
   ],
   "source": [
    "B = (n * sum_xy - sum_x * sum_y) / (n * sum_x2 - sum_x ** 2)\n",
    "round(B, 2)"
   ],
   "metadata": {
    "collapsed": false
   }
  },
  {
   "cell_type": "markdown",
   "source": [
    "Término independiente"
   ],
   "metadata": {
    "collapsed": false
   }
  },
  {
   "cell_type": "code",
   "execution_count": 202,
   "outputs": [
    {
     "data": {
      "text/plain": "0.12"
     },
     "execution_count": 202,
     "metadata": {},
     "output_type": "execute_result"
    }
   ],
   "source": [
    "A = (sum_y * sum_x2 - sum_x * sum_xy) / (n * sum_x2 - sum_x ** 2)\n",
    "round(A, 2)"
   ],
   "metadata": {
    "collapsed": false
   }
  },
  {
   "cell_type": "markdown",
   "source": [
    "Coeficiente de correlación"
   ],
   "metadata": {
    "collapsed": false
   }
  },
  {
   "cell_type": "code",
   "execution_count": 203,
   "outputs": [
    {
     "data": {
      "text/plain": "0.99"
     },
     "execution_count": 203,
     "metadata": {},
     "output_type": "execute_result"
    }
   ],
   "source": [
    "r = sum_xy / math.sqrt(sum_x2 * sum_y2)\n",
    "round(r, 2)"
   ],
   "metadata": {
    "collapsed": false
   }
  },
  {
   "cell_type": "code",
   "execution_count": 204,
   "outputs": [
    {
     "data": {
      "text/plain": "<Figure size 640x480 with 1 Axes>",
      "image/png": "[encoded data removed]"
     },
     "metadata": {},
     "output_type": "display_data"
    }
   ],
   "source": [
    "n_lines = 10\n",
    "diff_linewidth = 1.05\n",
    "alpha_value = 0.03\n",
    "#pyplot.style.use(\"seaborn-dark\")\n",
    "color = ['darkorange', 'olive', 'teal', 'violet', 'skyblue']\n",
    "pyplot.figure(facecolor = 'yellow')\n",
    "pyplot.scatter(df[\"tan α\"], df[\"I[A]\"], edgecolors = \"black\", c = color, s = 200, marker = \"o\")\n",
    "pyplot.plot(df[\"tan α\"], B * df[\"tan α\"] + A, c = \"blue\", linewidth = 2 + (diff_linewidth * n))\n",
    "pyplot.xlabel(\"tan α\", fontweight = \"bold\")\n",
    "pyplot.ylabel(\"I[A]\", fontweight = \"bold\")\n",
    "pyplot.title(\"GRÁFICA\", fontweight = \"bold\")\n",
    "pyplot.grid()\n",
    "#ax = pyplot.axes()\n",
    "#ax.set_facecolor(\"violet\")\n",
    "pyplot.savefig('myfig100.png', dpi = 800)\n",
    "pyplot.show()"
   ],
   "metadata": {
    "collapsed": false
   }
  },
  {
   "cell_type": "code",
   "execution_count": 205,
   "outputs": [
    {
     "data": {
      "text/plain": "   α[°]     tan α  I[A]  (tan α) * (I[A])  (tan α)^2  (I[A])^2\n0   4.0  0.069927  0.17          0.011888   0.004890    0.0289\n1   6.5  0.113936  0.19          0.021648   0.012981    0.0361\n2   7.0  0.122785  0.22          0.027013   0.015076    0.0484\n3   7.5  0.131652  0.23          0.030280   0.017332    0.0529\n4   8.0  0.140541  0.21          0.029514   0.019752    0.0441",
      "text/html": "<div>\n<style scoped>\n    .dataframe tbody tr th:only-of-type {\n        vertical-align: middle;\n    }\n\n    .dataframe tbody tr th {\n        vertical-align: top;\n    }\n\n    .dataframe thead th {\n        text-align: right;\n    }\n</style>\n<table border=\"1\" class=\"dataframe\">\n  <thead>\n    <tr style=\"text-align: right;\">\n      <th></th>\n      <th>α[°]</th>\n      <th>tan α</th>\n      <th>I[A]</th>\n      <th>(tan α) * (I[A])</th>\n      <th>(tan α)^2</th>\n      <th>(I[A])^2</th>\n    </tr>\n  </thead>\n  <tbody>\n    <tr>\n      <th>0</th>\n      <td>4.0</td>\n      <td>0.069927</td>\n      <td>0.17</td>\n      <td>0.011888</td>\n      <td>0.004890</td>\n      <td>0.0289</td>\n    </tr>\n    <tr>\n      <th>1</th>\n      <td>6.5</td>\n      <td>0.113936</td>\n      <td>0.19</td>\n      <td>0.021648</td>\n      <td>0.012981</td>\n      <td>0.0361</td>\n    </tr>\n    <tr>\n      <th>2</th>\n      <td>7.0</td>\n      <td>0.122785</td>\n      <td>0.22</td>\n      <td>0.027013</td>\n      <td>0.015076</td>\n      <td>0.0484</td>\n    </tr>\n    <tr>\n      <th>3</th>\n      <td>7.5</td>\n      <td>0.131652</td>\n      <td>0.23</td>\n      <td>0.030280</td>\n      <td>0.017332</td>\n      <td>0.0529</td>\n    </tr>\n    <tr>\n      <th>4</th>\n      <td>8.0</td>\n      <td>0.140541</td>\n      <td>0.21</td>\n      <td>0.029514</td>\n      <td>0.019752</td>\n      <td>0.0441</td>\n    </tr>\n  </tbody>\n</table>\n</div>"
     },
     "execution_count": 205,
     "metadata": {},
     "output_type": "execute_result"
    },
    {
     "data": {
      "text/plain": "<Figure size 640x480 with 1 Axes>",
      "image/png": "[encoded data removed]"
     },
     "metadata": {},
     "output_type": "display_data"
    }
   ],
   "source": [
    "df.plot.scatter(\"tan α\", \"I[A]\", edgecolors = \"black\", c = color, s = 200, marker = \"o\", grid = True)\n",
    "df"
   ],
   "metadata": {
    "collapsed": false
   }
  },
  {
   "cell_type": "code",
   "execution_count": 205,
   "outputs": [],
   "source": [],
   "metadata": {
    "collapsed": false
   }
  }
 ],
 "metadata": {
  "kernelspec": {
   "display_name": "Python 3 (ipykernel)",
   "language": "python",
   "name": "python3"
  },
  "language_info": {
   "codemirror_mode": {
    "name": "ipython",
    "version": 3
   },
   "file_extension": ".py",
   "mimetype": "text/x-python",
   "name": "python",
   "nbconvert_exporter": "python",
   "pygments_lexer": "ipython3",
   "version": "3.9.2"
  }
 },
 "nbformat": 4,
 "nbformat_minor": 1
}
