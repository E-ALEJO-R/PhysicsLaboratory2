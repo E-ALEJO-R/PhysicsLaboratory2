{
 "cells": [
  {
   "cell_type": "markdown",
   "metadata": {},
   "source": [
    "# EXPERIMENTO 10: \"LEY DE OERSTED\""
   ]
  },
  {
   "cell_type": "markdown",
   "metadata": {},
   "source": [
    "\n",
    "El objetivo de esta experiencia es recrear el famoso experimento de Oersted sobre la desviación que sufre una aguja magnética situada en las proximidades de un conductor eléctrico"
   ]
  },
  {
   "cell_type": "markdown",
   "metadata": {},
   "source": [
    "Através de esta ley se puede determinar el valor de **campo magnético** de un conductor"
   ]
  },
  {
   "cell_type": "markdown",
   "metadata": {},
   "source": [
    "$$ \\vec{B}_C = \\frac{\\mu_0 I}{2 \\pi d} $$"
   ]
  },
  {
   "cell_type": "markdown",
   "metadata": {},
   "source": [
    "Referencias:\n",
    "\n",
    "$I$: medir en laboratorio.\n",
    "\n",
    "$d$: distancia de separación entre el conductor y la aguja."
   ]
  },
  {
   "cell_type": "markdown",
   "metadata": {},
   "source": [
    "**FÓRMULAS PARA EL MÉTODO DE LOS MÍNIMOS CUADRADOS**\n",
    "\n",
    "Ecuación de la recta: $y = Ax + B$\n",
    "* Para determinar la pendiente $A$\n",
    "$$A =\\frac{n\\sum x_i y_i - \\sum x_i \\sum y_i}{n \\sum{x_i}^{2} - \\left( \\sum x_i \\right)^{2}}$$\n",
    "* Para determinar el término independiente $B$\n",
    "$$B =\\frac{\\sum y_i \\sum {x_i}^{2} - \\sum x_i \\sum x_i y_i}{n \\sum{x_i}^{2} - \\left( \\sum x_i \\right)^{2}}$$\n",
    "* Para determinar la incertidumbre de los datos\n",
    "$$\\sigma_y =\\sqrt{\\frac{\\sum{\\left(y_i - Bx_i - A\\right)}^{2}}{n-2}}$$\n",
    "* Para determinar la incertidumbre de $A$\n",
    "$$E_A = \\sigma_y \\sqrt{\\frac{\\sum{x_i}^{2}}{n \\sum{x_i}^{2} - \\left( \\sum x_i \\right)^{2}}}$$\n",
    "* Para determinar la incertidumbre de $B$\n",
    "$$E_B = \\sigma_y \\sqrt{\\frac{n}{n \\sum{x_i}^{2} - \\left( \\sum x_i \\right)^{2}}}$$\n",
    "* Para determinar el coeficiente de correlación\n",
    "$$r =\\frac{\\sum x_i y_i}{\\sqrt{\\sum{x_i}^{2} \\sum{y_i}^{2}}}$$"
   ]
  },
  {
   "cell_type": "markdown",
   "metadata": {},
   "source": [
    "Librerias necesarias"
   ]
  },
  {
   "cell_type": "code",
   "execution_count": 113,
   "metadata": {},
   "outputs": [],
   "source": [
    "from __future__ import annotations\n",
    "import numpy as np\n",
    "import six\n",
    "import math\n",
    "from matplotlib import pyplot\n",
    "# from matplotlib.lines import lineStyles\n",
    "# from IPython.display import Image\n",
    "# import ipyplot"
   ]
  },
  {
   "cell_type": "markdown",
   "metadata": {},
   "source": [
    "Clases implementadas para aplicar el método de los mínimos cuadrados."
   ]
  },
  {
   "cell_type": "code",
   "execution_count": 114,
   "metadata": {},
   "outputs": [],
   "source": [
    "from enum import Enum, unique\n",
    "\n",
    "\n",
    "@unique\n",
    "class Operation(Enum):\n",
    "    ADD = 0\n",
    "    SUB = 1\n",
    "    MUL = 2\n",
    "    TRUEDIV = 3\n",
    "    FLOORDIV = 4\n",
    "    POW = 5\n",
    "    MOD = 6\n",
    "\n",
    "\n",
    "class LException(Exception):\n",
    "\n",
    "    def __init__(self, *args):\n",
    "        super(LException, self).__init__(*args)\n",
    "\n",
    "\n",
    "class List(list):\n",
    "    \"\"\"\n",
    "    @author: Edgar Alejo Ramirez\n",
    "    \"\"\"\n",
    "\n",
    "    def __init__(self):\n",
    "        super().__init__()\n",
    "\n",
    "    def __add__(self, other: int | float | List):\n",
    "        return self.__fun(other, Operation.ADD)\n",
    "\n",
    "    def __sub__(self, other: int | float | List):\n",
    "        return self.__fun(other, Operation.SUB)\n",
    "\n",
    "    def __mul__(self, other: int | float | List):\n",
    "        return self.__fun(other, Operation.MUL)\n",
    "\n",
    "    def __truediv__(self, other: int | float | List):\n",
    "        return self.__fun(other, Operation.TRUEDIV)\n",
    "\n",
    "    def __floordiv__(self, other: int | float | List):\n",
    "        return self.__fun(other, Operation.FLOORDIV)\n",
    "\n",
    "    def __pow__(self, power: int | List, modulo = None):\n",
    "        return self.__fun(power, Operation.POW)\n",
    "\n",
    "    def __mod__(self, other: int | float | List):\n",
    "        return self.__fun(other, Operation.MOD)\n",
    "\n",
    "    def __op(self, other: int | float | List, operation: Operation, array: bool = False) -> List:\n",
    "        values = List()\n",
    "        for i in range(len(self)):\n",
    "            if operation == Operation.ADD:\n",
    "                values.append(self[i] + other[i] if array else self[i] + other)\n",
    "            elif operation == Operation.SUB:\n",
    "                values.append(self[i] - other[i] if array else self[i] - other)\n",
    "            elif operation == Operation.MUL:\n",
    "                values.append(self[i] * other[i] if array else self[i] * other)\n",
    "            elif operation == Operation.TRUEDIV:\n",
    "                values.append(self[i] / other[i] if array else self[i] / other)\n",
    "            elif operation == Operation.FLOORDIV:\n",
    "                values.append(self[i] // other[i] if array else self[i] // other)\n",
    "            elif operation == Operation.POW:\n",
    "                values.append(self[i] ** other[i] if array else self[i] ** other)\n",
    "            elif operation == Operation.MOD:\n",
    "                values.append(self[i] % other[i] if array else self[i] % other)\n",
    "            else:\n",
    "                raise LException(f\"invalid operation\")\n",
    "        return values\n",
    "\n",
    "    def __fun(self, other: int | float | List, op: Operation):\n",
    "        if isinstance(other, (int, float)):\n",
    "            return self.__op(other, op)\n",
    "        elif isinstance(other, List):\n",
    "            if len(self) == len(other):\n",
    "                return self.__op(other, op, array = True)\n",
    "            else:\n",
    "                raise LException(f\"lists must be of equal size\")\n",
    "        else:\n",
    "            raise LException(f\"only types are supported: {int}, {float} and {List}\")"
   ]
  },
  {
   "cell_type": "code",
   "execution_count": 115,
   "metadata": {},
   "outputs": [],
   "source": [
    "from csv import writer, reader\n",
    "\n",
    "\n",
    "class LRException(Exception):\n",
    "    def __init__(self, *args):\n",
    "        super(LRException, self).__init__(*args)\n",
    "\n",
    "\n",
    "class LeastSquares:\n",
    "    \"\"\"\n",
    "    @author: Edgar Alejo Ramirez\n",
    "    \"\"\"\n",
    "\n",
    "    def __init__(self, data: dict | str):\n",
    "        self.__array: dict\n",
    "        self.__path: str\n",
    "\n",
    "        if isinstance(data, dict):\n",
    "            self.__array = data\n",
    "        elif isinstance(data, str):\n",
    "            self.__path = data\n",
    "            self.__array = {key: value for key, value in self.__readcsv()}\n",
    "        else:\n",
    "            raise LRException(f'Required data types: {dict} or path of *.csv file {str}')\n",
    "\n",
    "        self.__n = len(self)\n",
    "\n",
    "        self.__promx = None\n",
    "        self.__promy = None\n",
    "\n",
    "        self.__sumx = None\n",
    "        self.__sumy = None\n",
    "        self.__sumx2 = None\n",
    "        self.__sumy2 = None\n",
    "        self.__sumxy = None\n",
    "\n",
    "        self.__columnx = None\n",
    "        self.__columny = None\n",
    "\n",
    "        self.__x = None\n",
    "        self.__y = None\n",
    "\n",
    "    def __len__(self):\n",
    "        return self.dimension()[1]\n",
    "\n",
    "    def __getitem__(self, index):\n",
    "        try:\n",
    "            return self.__array[index]\n",
    "        except KeyError as e:\n",
    "            raise LRException(f\"column {e} does not exist\")\n",
    "\n",
    "    def __setitem__(self, index, value):\n",
    "        self.__array[index] = value\n",
    "\n",
    "    def __defx(self):\n",
    "        self.__promx = np.mean(self[self.__columnx])\n",
    "        self.__sumx = np.sum(self[self.__columnx])\n",
    "        self.__sumx2 = np.sum(self[self.__columnx] ** 2)\n",
    "\n",
    "    def __defy(self):\n",
    "        self.__promy = np.mean(self[self.__columny])\n",
    "        self.__sumy = np.sum(self[self.__columny])\n",
    "        self.__sumy2 = np.sum(self[self.__columny] ** 2)\n",
    "\n",
    "    def __defxy(self):\n",
    "        self.__sumxy = np.sum(self[self.__columnx] * self[self.__columny])\n",
    "\n",
    "    def __validate(self):\n",
    "        if self.__columnx is None or self.__columny is None:\n",
    "            raise LRException(f\"you must specify columns x and y\")\n",
    "\n",
    "    def __readcsv(self):\n",
    "        with open(self.__path, newline = '') as file:\n",
    "            values = List()\n",
    "            for r in reader(file):\n",
    "                values.append(r)\n",
    "            values = self.__invert(values)\n",
    "            for val in values:\n",
    "                lt = List()\n",
    "                for v in val[1:]:\n",
    "                    lt.append(float(v))\n",
    "                yield str(val[0]), lt\n",
    "\n",
    "    def __writecsv(self):\n",
    "        with open(self.__path, mode = 'w') as File:\n",
    "            write = writer(File)\n",
    "            write.writerow(self.__array)\n",
    "\n",
    "    @staticmethod\n",
    "    def __invert(array: List) -> List:\n",
    "        val = List()\n",
    "        for i in range(len(array[0])):\n",
    "            aux = List()\n",
    "            for j in range(len(array)):\n",
    "                aux.append(array[j][i])\n",
    "            val.append(aux)\n",
    "        return val\n",
    "\n",
    "    @staticmethod\n",
    "    def __round(decimals: int, formula: float) -> float:\n",
    "        if decimals is None:\n",
    "            return formula\n",
    "        if not isinstance(decimals, int):\n",
    "            raise LRException(f\"only {int} type values are supported\")\n",
    "        if decimals < 0:\n",
    "            raise LRException(f\"only positive values including zero are allowed\")\n",
    "        return round(formula, decimals)\n",
    "\n",
    "    def a(self, decimals: int = None) -> float:\n",
    "        \"\"\"\n",
    "        Pendiente de la recta. fórmula\n",
    "        :return:\n",
    "        \"\"\"\n",
    "        self.__validate()\n",
    "        tmp = (self.__n * self.__sumxy - self.__sumx * self.__sumy) / (self.__n * self.__sumx2 - self.__sumx ** 2)\n",
    "        return self.__round(decimals = decimals, formula = tmp)\n",
    "\n",
    "    def b(self, decimals: int = None) -> float:\n",
    "        \"\"\"\n",
    "        Término independiente de la recta.\n",
    "        :return:\n",
    "        \"\"\"\n",
    "        self.__validate()\n",
    "        tmp = (self.__sumy * self.__sumx2 - self.__sumx * self.__sumxy) / (self.__n * self.__sumx2 - self.__sumx ** 2)\n",
    "        return self.__round(decimals = decimals, formula = tmp)\n",
    "\n",
    "    def r(self, decimals: int = None) -> float:\n",
    "        \"\"\"\n",
    "        Coeficiente de correlación.\n",
    "        :return:\n",
    "        \"\"\"\n",
    "        self.__validate()\n",
    "        tmp = np.sum(\n",
    "            (self[self.__columnx] - self.__promx) * (self[self.__columny] - self.__promy)\n",
    "        ) / (math.sqrt(\n",
    "            np.sum((self[self.__columnx] - self.__promx) ** 2)\n",
    "        ) * math.sqrt(\n",
    "            np.sum((self[self.__columny] - self.__promy) ** 2)\n",
    "        ))\n",
    "        return self.__round(decimals = decimals, formula = tmp)\n",
    "\n",
    "    def sigmay(self, decimals: int = None) -> float:\n",
    "        \"\"\"\n",
    "        Incertidumbre de datos.\n",
    "        :return:\n",
    "        \"\"\"\n",
    "        self.__validate()\n",
    "        tmp = math.sqrt(\n",
    "            np.sum(\n",
    "                (self[self.__columny] - (self[self.__columnx] * self.a()) - self.b()) ** 2\n",
    "            ) / (self.__n - 2)\n",
    "        )\n",
    "        return self.__round(decimals = decimals, formula = tmp)\n",
    "\n",
    "    def erra(self, decimals: int = None) -> float:\n",
    "        \"\"\"\n",
    "        Incertidumbre de la pendiente.\n",
    "        :return:\n",
    "        \"\"\"\n",
    "        self.__validate()\n",
    "        tmp = self.sigmay() * math.sqrt(self.__n / (self.__n * self.__sumx2 - self.__sumx ** 2))\n",
    "        return self.__round(decimals = decimals, formula = tmp)\n",
    "\n",
    "    def errb(self, decimals: int = None) -> float:\n",
    "        \"\"\"\n",
    "        Incertidumbre del término independiente.\n",
    "        :return:\n",
    "        \"\"\"\n",
    "        self.__validate()\n",
    "        tmp = self.sigmay() * math.sqrt(self.__sumx2 / (self.__n * self.__sumx2 - self.__sumx ** 2))\n",
    "        return self.__round(decimals = decimals, formula = tmp)\n",
    "\n",
    "    def equation(self, decimals: int = None, uncertainty: bool = False) -> str:\n",
    "        \"\"\"\n",
    "        Ecuación de la recta.\n",
    "        :return:\n",
    "        \"\"\"\n",
    "        b = self.b(decimals)\n",
    "        sign = \"+\" if b > 0 else \"-\"\n",
    "        if not isinstance(uncertainty, bool):\n",
    "            raise LRException(f\"{uncertainty} not of type {bool}\")\n",
    "        if uncertainty:\n",
    "            return f\"{self.__y} = ({self.a(decimals)} ± {self.erra(decimals)}){self.__x} {sign} ({abs(b)} ± {self.errb(decimals)})\"\n",
    "        return f\"{self.__y} = {self.a(decimals)}{self.__x} {sign} {abs(b)}\"\n",
    "\n",
    "    def table(\n",
    "        self,\n",
    "        decimals: int = 3,\n",
    "        colwidth: int | float = 3.0,\n",
    "        rowheight: int | float = 0.625,\n",
    "        fontsize: int | float = 14,\n",
    "        headercolor: str = '#40466e',\n",
    "        rowcolors: list[str] = None,\n",
    "        edgecolor: str = 'w',\n",
    "        bbox: list[int] = None,\n",
    "        headercolumns: int = 0,\n",
    "        ax = None,\n",
    "        **kwargs\n",
    "    ) -> None:\n",
    "        if bbox is None:\n",
    "            bbox = [0, 0, 1, 1]\n",
    "        if rowcolors is None:\n",
    "            rowcolors = ['#f1f1f2', 'w']\n",
    "            # rowcolors = ['#c2c2d6', 'w']\n",
    "        if ax is None:\n",
    "            size = (np.array(self.dimension()) + np.array([0, 1])) * np.array([colwidth, rowheight])\n",
    "            fig, ax = pyplot.subplots(figsize = size)\n",
    "            ax.axis('off')\n",
    "        values = [i for i in self.__array.values()]\n",
    "        values = np.round(values, decimals = decimals)\n",
    "        values = self.__invert(values)\n",
    "        mtable = ax.table(cellText = values, bbox = bbox, colLabels = self.headers(), **kwargs)\n",
    "        mtable.auto_set_font_size(False)\n",
    "        mtable.set_fontsize(fontsize)\n",
    "\n",
    "        for k, cell in six.iteritems(mtable.get_celld()):\n",
    "            cell.set_edgecolor(edgecolor)\n",
    "            if k[0] == 0 or k[1] < headercolumns:\n",
    "                cell.set_text_props(weight = 'bold', color = 'w')\n",
    "                cell.set_facecolor(headercolor)\n",
    "            else:\n",
    "                cell.set_facecolor(rowcolors[k[0] % len(rowcolors)])\n",
    "        pyplot.show()\n",
    "\n",
    "    def graph(\n",
    "        self, title = \"GRAPH\", linewidth = 3,\n",
    "        pointsize = 200, savepng: bool = False,\n",
    "        xlabel: str = None, ylabel: str = None,\n",
    "        decimals: int = None,\n",
    "        uncertainty: bool = False\n",
    "    ) -> None:\n",
    "        self.__validate()\n",
    "        diff_linewidth = 1.05\n",
    "        color = ['darkorange', 'olive', 'teal', 'violet', 'skyblue']\n",
    "        pyplot.figure(facecolor = '#a3a3c2')\n",
    "        pyplot.scatter(\n",
    "            self[self.__columnx], self[self.__columny],\n",
    "            edgecolors = \"black\", c = color, s = pointsize, marker = \"o\"\n",
    "        )\n",
    "        pyplot.plot(\n",
    "            self[self.__columnx],\n",
    "            self.a() * self[self.__columnx] + self.b(),\n",
    "            c = \"blue\", linewidth = 2 + (diff_linewidth * linewidth),\n",
    "            label = self.equation(decimals, uncertainty) + \"\\nr = \" + str(self.r(decimals))\n",
    "        )\n",
    "        pyplot.xlabel(self.__x if xlabel is None else xlabel, fontweight = \"bold\")\n",
    "        pyplot.ylabel(self.__y if ylabel is None else ylabel, fontweight = \"bold\")\n",
    "        pyplot.title(title, fontweight = \"bold\")\n",
    "        if savepng:\n",
    "            pyplot.savefig('graph.png', dpi = 800)\n",
    "        gca = pyplot.gca()\n",
    "        gca.set_facecolor('#f0f0f5')\n",
    "        pyplot.grid(True, linestyle = '--')\n",
    "        pyplot.legend()\n",
    "\n",
    "    def dimension(self) -> tuple:\n",
    "        row = 0\n",
    "        for v in self.__array.values():\n",
    "            row = len(v)\n",
    "        return len(self.__array), row\n",
    "\n",
    "    def headers(self) -> list:\n",
    "        return [k for k in self.__array.keys()]\n",
    "\n",
    "    @property\n",
    "    def x(self):\n",
    "        return self.__columnx\n",
    "\n",
    "    @x.setter\n",
    "    def x(self, value: tuple):\n",
    "        if isinstance(value, tuple):\n",
    "            self.__columnx = value[0]\n",
    "            self.__x = value[1]\n",
    "            self.__defx()\n",
    "            if self.__columny is not None:\n",
    "                self.__defxy()\n",
    "        else:\n",
    "            raise LRException(f\"allowed values of type {str}\")\n",
    "\n",
    "    @property\n",
    "    def y(self):\n",
    "        return self.__columny\n",
    "\n",
    "    @y.setter\n",
    "    def y(self, value: tuple):\n",
    "        if isinstance(value, tuple):\n",
    "            self.__columny = value[0]\n",
    "            self.__y = value[1]\n",
    "            self.__defy()\n",
    "            if self.__columnx is not None:\n",
    "                self.__defxy()\n",
    "        else:\n",
    "            raise LRException(f\"allowed values of type {str}\")"
   ]
  },
  {
   "cell_type": "markdown",
   "metadata": {},
   "source": [
    "Montaje\n",
    "\n",
    "![si](../lab10/images/mounting.png)"
   ]
  },
  {
   "cell_type": "markdown",
   "metadata": {},
   "source": [
    "Datos obtenidos en el laboratorio\n",
    "\n",
    "![hola](../lab10/images/values.png)"
   ]
  },
  {
   "cell_type": "markdown",
   "metadata": {},
   "source": [
    "Creando un objeto de tipo **LeastSqueare** \"método de los mínimos cuadrados\"."
   ]
  },
  {
   "cell_type": "code",
   "execution_count": 116,
   "metadata": {},
   "outputs": [],
   "source": [
    "ls = LeastSquares(\"../lab10/models/datas.csv\")"
   ]
  },
  {
   "cell_type": "markdown",
   "metadata": {},
   "source": [
    "Mostrando la tabla de datos obtenidos en el laboratorio."
   ]
  },
  {
   "cell_type": "code",
   "execution_count": 117,
   "metadata": {},
   "outputs": [
    {
     "data": {
      "text/plain": "<Figure size 600x375 with 1 Axes>",
      "image/png": "[encoded data removed]"
     },
     "metadata": {},
     "output_type": "display_data"
    }
   ],
   "source": [
    "ls.table()"
   ]
  },
  {
   "cell_type": "markdown",
   "metadata": {},
   "source": [
    "Asignando las columnas que debe de tomar ecuenta para el analisis."
   ]
  },
  {
   "cell_type": "code",
   "execution_count": 118,
   "metadata": {},
   "outputs": [],
   "source": [
    "ls.x = (\"(I ± 0.01)[A]\", \"I\")\n",
    "ls.y = (\"(θ ± 1)[°]\", \"tan(θ)\")"
   ]
  },
  {
   "cell_type": "markdown",
   "metadata": {},
   "source": [
    "Valor de la pendiente"
   ]
  },
  {
   "cell_type": "code",
   "execution_count": 119,
   "metadata": {},
   "outputs": [
    {
     "data": {
      "text/plain": "63.79310344827512"
     },
     "execution_count": 119,
     "metadata": {},
     "output_type": "execute_result"
    }
   ],
   "source": [
    "ls.a()"
   ]
  },
  {
   "cell_type": "markdown",
   "metadata": {},
   "source": [
    "Valor del término independiente"
   ]
  },
  {
   "cell_type": "code",
   "execution_count": 120,
   "metadata": {},
   "outputs": [
    {
     "data": {
      "text/plain": "-6.413793103448229"
     },
     "execution_count": 120,
     "metadata": {},
     "output_type": "execute_result"
    }
   ],
   "source": [
    "ls.b()"
   ]
  },
  {
   "cell_type": "markdown",
   "metadata": {},
   "source": [
    "Valor del coeficiente de correlación"
   ]
  },
  {
   "cell_type": "code",
   "execution_count": 121,
   "metadata": {},
   "outputs": [
    {
     "data": {
      "text/plain": "0.9181395839231105"
     },
     "execution_count": 121,
     "metadata": {},
     "output_type": "execute_result"
    }
   ],
   "source": [
    "ls.r()"
   ]
  },
  {
   "cell_type": "markdown",
   "metadata": {},
   "source": [
    "Incertidumbre de la pendiente"
   ]
  },
  {
   "cell_type": "code",
   "execution_count": 122,
   "metadata": {},
   "outputs": [
    {
     "data": {
      "text/plain": "15.89576630567737"
     },
     "execution_count": 122,
     "metadata": {},
     "output_type": "execute_result"
    }
   ],
   "source": [
    "ls.erra()"
   ]
  },
  {
   "cell_type": "markdown",
   "metadata": {},
   "source": [
    "Incertidumbre del término independiente"
   ]
  },
  {
   "cell_type": "code",
   "execution_count": 123,
   "metadata": {},
   "outputs": [
    {
     "data": {
      "text/plain": "3.2607637543362924"
     },
     "execution_count": 123,
     "metadata": {},
     "output_type": "execute_result"
    }
   ],
   "source": [
    "ls.errb()"
   ]
  },
  {
   "cell_type": "markdown",
   "metadata": {},
   "source": [
    "Ecuación de la recta"
   ]
  },
  {
   "cell_type": "code",
   "execution_count": 124,
   "metadata": {},
   "outputs": [
    {
     "name": "stdout",
     "output_type": "stream",
     "text": [
      "tan(θ) = (63.79 ± 15.9)I - (6.41 ± 3.26)\n"
     ]
    }
   ],
   "source": [
    "out = ls.equation(decimals = 2, uncertainty = True)\n",
    "print(out)"
   ]
  },
  {
   "cell_type": "markdown",
   "metadata": {},
   "source": [
    "Gráfica de tendencia"
   ]
  },
  {
   "cell_type": "code",
   "execution_count": 125,
   "metadata": {},
   "outputs": [
    {
     "data": {
      "text/plain": "<Figure size 640x480 with 1 Axes>",
      "image/png": "[encoded data removed]"
     },
     "metadata": {},
     "output_type": "display_data"
    }
   ],
   "source": [
    "ls.graph(title = \"GRÁFICA\", pointsize = 200, linewidth = 3, decimals = 2, uncertainty = False, savepng = False)"
   ]
  },
  {
   "cell_type": "code",
   "execution_count": 126,
   "metadata": {},
   "outputs": [],
   "source": [
    "# pyplot.quiver([0, 4], [0, 4], [0, 0], [4, 4], scale_units = \"xy\", angles = \"xy\", scale = 1)\n",
    "# pyplot.xlim(-1, 5)\n",
    "# pyplot.ylim(-1, 5)\n",
    "# pyplot.grid(True, linestyle = \"--\")\n",
    "# ax = pyplot.gca()\n",
    "# ax.set_facecolor('#f0f0f5')\n",
    "# axes = pyplot.axes()\n",
    "#\n",
    "# axes.spines['bottom'].set_linewidth(2)\n",
    "# axes.spines['left'].set_linewidth(2)\n",
    "# axes.spines['top'].set_visible(False)\n",
    "# axes.spines['right'].set_visible(False)\n",
    "# pyplot.show()"
   ]
  },
  {
   "cell_type": "code",
   "execution_count": 126,
   "metadata": {},
   "outputs": [],
   "source": []
  },
  {
   "cell_type": "code",
   "execution_count": 126,
   "metadata": {},
   "outputs": [],
   "source": []
  }
 ],
 "metadata": {
  "kernelspec": {
   "display_name": "Python 3 (ipykernel)",
   "language": "python",
   "name": "python3"
  },
  "language_info": {
   "codemirror_mode": {
    "name": "ipython",
    "version": 3
   },
   "file_extension": ".py",
   "mimetype": "text/x-python",
   "name": "python",
   "nbconvert_exporter": "python",
   "pygments_lexer": "ipython3",
   "version": "3.9.2"
  }
 },
 "nbformat": 4,
 "nbformat_minor": 1
}
